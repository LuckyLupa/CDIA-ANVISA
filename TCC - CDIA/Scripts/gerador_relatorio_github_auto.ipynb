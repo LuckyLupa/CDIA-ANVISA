{
  "cells": [
    {
      "cell_type": "markdown",
      "metadata": {
        "id": "cr9HuP7LSrew"
      },
      "source": [
        "# Relatório Auxiliar Automatizado - Projeto CDIA (via GitHub)\n",
        "\n",
        "Este notebook clona automaticamente o repositório do GitHub se ele não existir,\n",
        "gera o relatório auxiliar e, opcionalmente, faz commit + push para o GitHub."
      ],
      "id": "cr9HuP7LSrew"
    },
    {
      "cell_type": "code",
      "execution_count": 5,
      "metadata": {
        "id": "p8w7jmrqSrey",
        "outputId": "6d1f4795-ee46-4a1b-96ab-26342a718f05",
        "colab": {
          "base_uri": "https://localhost:8080/"
        }
      },
      "outputs": [
        {
          "output_type": "stream",
          "name": "stdout",
          "text": [
            "Repositório já clonado.\n",
            "/content/CDIA-ANVISA\n",
            ".:\n",
            " LICENSE   README.md  'TCC - CDIA'\n",
            "\n",
            "'./TCC - CDIA':\n",
            "Apresentações  Documentos  README_atualizado.md  Scripts  Templates\n",
            "Dados\t       Rascunhos   README.md\t\t TCC\n",
            "\n",
            "'./TCC - CDIA/Apresentações':\n",
            " Apresentacao_Mesclada_Modelo_2025.pptx\n",
            "'Apresentação ppt 2025.pptx'\n",
            "'Apresentacao Projeto CDIA.pdf'\n",
            " Apresentacao_Projeto_GELOG_IA_Atualizada.pptx\n",
            " Template_Apresentacao_banca.pptx\n",
            "\n",
            "'./TCC - CDIA/Dados':\n",
            "'Exemplos de saída'   Faturas\n",
            "\n",
            "'./TCC - CDIA/Dados/Exemplos de saída':\n",
            "relatorio_aux_riogaleao_tic_2025-07.docx\n",
            "\n",
            "'./TCC - CDIA/Dados/Faturas':\n",
            " BOLETO_8000475862_20.07.2025.PDF  'SEI - 25351.939296_2020-53.pdf'\n",
            " DA_8000475862_20.07.2025.PDF\n",
            "\n",
            "'./TCC - CDIA/Documentos':\n",
            "'Cronograma - Projeto final de curso - CDIA.pdf'\n",
            " GUIA_DE_ENTREGA_FINAL_PROJETO_APLICADO.pdf\n",
            " Modelo_entrega_projeto_final_CDIA25.docx\n",
            " Orientacoes_formatacao.docx\n",
            "\n",
            "'./TCC - CDIA/Rascunhos':\n",
            "'Mão na massa RIOgaleão.docx'  'Primpeiros passos.docx'  'Proximos passos.docx'\n",
            "\n",
            "'./TCC - CDIA/Scripts':\n",
            "gerador_relatorio_drive_auto_install.ipynb\n",
            "gerador_relatorio_drive_auto.ipynb\n",
            "gerador_relatorio_drive_TCC_CDia_link.ipynb\n",
            "gerador_relatorio_github_auto.ipynb\n",
            "gerador_relatorio_github_corrigido.ipynb\n",
            "gerador_relatorio.ipynb\n",
            "gerador_relatorio.py\n",
            "\n",
            "'./TCC - CDIA/TCC':\n",
            "'Cópia de relatorio_aux_riogaleao_tic_2025-07.docx'   data_dictionary.pdf\n",
            "\n",
            "'./TCC - CDIA/Templates':\n",
            "data_dictionary.md  modelo_relatorio_v2.docx\n"
          ]
        }
      ],
      "source": [
        "import os\n",
        "\n",
        "repo_url = \"https://github.com/LuckyLupa/CDIA-ANVISA.git\"  # 🔹 Substituir pelo seu repositório real\n",
        "repo_dir = \"/content/CDIA-ANVISA\"\n",
        "\n",
        "\n",
        "if not os.path.exists(repo_dir):\n",
        "    !git clone $repo_url\n",
        "else:\n",
        "    print(\"Repositório já clonado.\")\n",
        "%cd $repo_dir\n",
        "\n",
        "!ls -R"
      ],
      "id": "p8w7jmrqSrey"
    },
    {
      "cell_type": "code",
      "execution_count": 6,
      "metadata": {
        "id": "hxvTo8vhSrey",
        "outputId": "027bdb92-3c89-4cbc-9ac2-4df9f219b3db",
        "colab": {
          "base_uri": "https://localhost:8080/"
        }
      },
      "outputs": [
        {
          "output_type": "stream",
          "name": "stdout",
          "text": [
            "Collecting python-docx\n",
            "  Downloading python_docx-1.2.0-py3-none-any.whl.metadata (2.0 kB)\n",
            "Requirement already satisfied: lxml>=3.1.0 in /usr/local/lib/python3.11/dist-packages (from python-docx) (5.4.0)\n",
            "Requirement already satisfied: typing_extensions>=4.9.0 in /usr/local/lib/python3.11/dist-packages (from python-docx) (4.14.1)\n",
            "Downloading python_docx-1.2.0-py3-none-any.whl (252 kB)\n",
            "\u001b[?25l   \u001b[90m━━━━━━━━━━━━━━━━━━━━━━━━━━━━━━━━━━━━━━━━\u001b[0m \u001b[32m0.0/253.0 kB\u001b[0m \u001b[31m?\u001b[0m eta \u001b[36m-:--:--\u001b[0m\r\u001b[2K   \u001b[91m━━━━━━━━━━━━━━\u001b[0m\u001b[91m╸\u001b[0m\u001b[90m━━━━━━━━━━━━━━━━━━━━━━━━━\u001b[0m \u001b[32m92.2/253.0 kB\u001b[0m \u001b[31m2.6 MB/s\u001b[0m eta \u001b[36m0:00:01\u001b[0m\r\u001b[2K   \u001b[90m━━━━━━━━━━━━━━━━━━━━━━━━━━━━━━━━━━━━━━━━\u001b[0m \u001b[32m253.0/253.0 kB\u001b[0m \u001b[31m4.0 MB/s\u001b[0m eta \u001b[36m0:00:00\u001b[0m\n",
            "\u001b[?25hInstalling collected packages: python-docx\n",
            "Successfully installed python-docx-1.2.0\n"
          ]
        }
      ],
      "source": [
        "# Instalar dependência python-docx\n",
        "try:\n",
        "    from docx import Document\n",
        "except ModuleNotFoundError:\n",
        "    !pip install python-docx\n",
        "    from docx import Document\n",
        "\n",
        "def gerar_relatorio(dados, template_path, output_path):\n",
        "    doc = Document(template_path)\n",
        "    for p in doc.paragraphs:\n",
        "        for key, value in dados.items():\n",
        "            if f\"{{{{{key}}}}}\" in p.text:\n",
        "                p.text = p.text.replace(f\"{{{{{key}}}}}\", value)\n",
        "    for table in doc.tables:\n",
        "        for row in table.rows:\n",
        "            for cell in row.cells:\n",
        "                for key, value in dados.items():\n",
        "                    if f\"{{{{{key}}}}}\" in cell.text:\n",
        "                        cell.text = cell.text.replace(f\"{{{{{key}}}}}\", value)\n",
        "    doc.save(output_path)\n",
        "    print(f'Relatório gerado com sucesso: {output_path}')"
      ],
      "id": "hxvTo8vhSrey"
    },
    {
      "cell_type": "code",
      "execution_count": 9,
      "metadata": {
        "id": "ve9QwMNrSrez",
        "outputId": "a4c229f9-2143-4266-b61a-8e367beebf2a",
        "colab": {
          "base_uri": "https://localhost:8080/"
        }
      },
      "outputs": [
        {
          "output_type": "stream",
          "name": "stdout",
          "text": [
            "Relatório gerado com sucesso: /content/CDIA-ANVISA/TCC - CDIA/TCC/relatorio_aux_riogaleao_tic_2025-07.docx\n"
          ]
        }
      ],
      "source": [
        "# Dados simulados\n",
        "dados_fatura = {\n",
        "    \"NUM_FATURA\": \"8000475862\",\n",
        "    \"DATA_EMISSAO\": \"25/06/2025\",\n",
        "    \"DATA_VENCIMENTO\": \"20/07/2025\",\n",
        "    \"PERIODO\": \"Julho/2025\",\n",
        "    \"CNPJ_CONCESSIONARIA\": \"19.726.111/0001-08\",\n",
        "    \"NUM_CONTRATO\": \"2204/2019\",\n",
        "    \"VALOR_CUSTO_TI\": \"11.179,62\",\n",
        "    \"VALOR_CONSUMO_TI\": \"169,99\",\n",
        "    \"VALOR_TOTAL_BRUTO\": \"11.349,61\",\n",
        "    \"NUM_EMPENHO\": \"2025NE000123\",\n",
        "    \"ID_CONTRATOS_GOV\": \"123456\",\n",
        "    \"LINK_FATURA\": \"https://sei.anvisa.gov.br/fatura/8000475862.pdf\",\n",
        "    \"HASH_PDF\": \"a3f5c8d9b4e8f72c4569e1a3d8c9f02aab89c1f234abcd56789ef01234567890\"\n",
        "}\n",
        "\n",
        "base_path = \"/content/CDIA-ANVISA\"\n",
        "template_path = f\"{base_path}/TCC - CDIA/Templates/modelo_relatorio_v2.docx\"\n",
        "output_path = f\"{base_path}/TCC - CDIA/TCC/relatorio_aux_riogaleao_tic_2025-07.docx\"\n",
        "\n",
        "gerar_relatorio(dados_fatura, template_path, output_path)"
      ],
      "id": "ve9QwMNrSrez"
    },
    {
      "cell_type": "code",
      "execution_count": null,
      "metadata": {
        "id": "NTP1FsciSrez"
      },
      "outputs": [],
      "source": [
        "# (Opcional) Commit e push do relatório gerado\n",
        "!git config --global user.email \"SEUEMAIL\"\n",
        "!git config --global user.name \"SEUNOME\"\n",
        "!git add data/exemplos_saida/*\n",
        "!git commit -m \"Adiciona relatório auxiliar RIOgaleao TIC Julho/2025\" || echo 'Nada a commitar'\n",
        "!git push origin main"
      ],
      "id": "NTP1FsciSrez"
    }
  ],
  "metadata": {
    "kernelspec": {
      "display_name": "Python 3",
      "language": "python",
      "name": "python3"
    },
    "language_info": {
      "name": "python",
      "version": "3.10"
    },
    "colab": {
      "provenance": []
    }
  },
  "nbformat": 4,
  "nbformat_minor": 5
}